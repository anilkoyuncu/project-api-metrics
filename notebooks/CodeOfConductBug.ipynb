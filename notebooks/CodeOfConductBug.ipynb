{
 "cells": [
  {
   "cell_type": "markdown",
   "metadata": {},
   "source": [
    "This notebook contains details about a potential code of conduct bug in the GitHub GraphQL API.\n",
    "\n",
    "When getting information from the codeOfConduct object for all respositories in an org, it works find for some orgs while failing with an error message for other orgs. When it fails for an org, it neglects to get ANY data from the repository."
   ]
  },
  {
   "cell_type": "code",
   "execution_count": 1,
   "metadata": {},
   "outputs": [],
   "source": [
    "import requests\n",
    "import json\n",
    "\n",
    "# Assumes your GH API token is in a file called gh_key in this directory\n",
    "with open('gh_key', 'r') as kf:\n",
    "    api_token = kf.readline().rstrip() # remove newline & trailing whitespace"
   ]
  },
  {
   "cell_type": "code",
   "execution_count": 24,
   "metadata": {},
   "outputs": [],
   "source": [
    "# fails on vmware, bitnami\n",
    "# works on vmware-tanzu, concourse, carbonblack\n",
    "def make_query():\n",
    "    return \"\"\"query RepoQuery($org_name: String!) {\n",
    "             organization(login: $org_name) {\n",
    "               repositories (first: 100){\n",
    "                 pageInfo {\n",
    "                   hasNextPage\n",
    "                   endCursor\n",
    "                 }\n",
    "                 nodes {\n",
    "                   name\n",
    "                   codeOfConduct{\n",
    "                     url\n",
    "                   }\n",
    "                   createdAt\n",
    "                 }\n",
    "                }\n",
    "               }\n",
    "            }\"\"\""
   ]
  },
  {
   "cell_type": "markdown",
   "metadata": {},
   "source": [
    "# Works fine for some orgs: vmware-tanzu example"
   ]
  },
  {
   "cell_type": "code",
   "execution_count": 25,
   "metadata": {},
   "outputs": [],
   "source": [
    "# fails on vmware, bitnami\n",
    "# works on vmware-tanzu, concourse, carbonblack\n",
    "org_name = \"vmware-tanzu\""
   ]
  },
  {
   "cell_type": "code",
   "execution_count": 26,
   "metadata": {},
   "outputs": [
    {
     "name": "stdout",
     "output_type": "stream",
     "text": [
      "{'data': {'organization': {'repositories': {'pageInfo': {'hasNextPage': False, 'endCursor': 'Y3Vyc29yOnYyOpHOGL3pZg=='}, 'nodes': [{'name': 'sonobuoy', 'codeOfConduct': {'url': 'https://github.com/vmware-tanzu/sonobuoy/blob/main/CODE_OF_CONDUCT.md'}, 'createdAt': '2017-07-26T18:27:09Z'}, {'name': 'velero', 'codeOfConduct': {'url': 'https://github.com/vmware-tanzu/velero/blob/main/CODE_OF_CONDUCT.md'}, 'createdAt': '2017-08-02T17:22:11Z'}, {'name': 'velero-plugin-example', 'codeOfConduct': {'url': 'https://github.com/vmware-tanzu/velero-plugin-example/blob/main/CODE_OF_CONDUCT.md'}, 'createdAt': '2017-11-28T20:25:03Z'}, {'name': 'tgik', 'codeOfConduct': {'url': 'https://github.com/vmware-tanzu/tgik/blob/master/CODE-OF-CONDUCT.md'}, 'createdAt': '2018-05-07T18:11:06Z'}, {'name': 'carvel-kwt', 'codeOfConduct': {'url': 'https://github.com/vmware-tanzu/carvel-kwt/blob/develop/CODE_OF_CONDUCT.md'}, 'createdAt': '2018-09-24T17:59:19Z'}, {'name': 'thepodlets', 'codeOfConduct': {'url': 'https://github.com/vmware-tanzu/thepodlets/blob/main/CODE-OF-CONDUCT.md'}, 'createdAt': '2018-10-17T21:16:53Z'}, {'name': 'carvel-ytt', 'codeOfConduct': {'url': 'https://github.com/vmware-tanzu/carvel-ytt/blob/develop/CODE_OF_CONDUCT.md'}, 'createdAt': '2019-03-01T00:13:56Z'}, {'name': 'carvel-ytt-library-for-kubernetes', 'codeOfConduct': {'url': 'https://github.com/vmware-tanzu/carvel-ytt-library-for-kubernetes/blob/develop/CODE_OF_CONDUCT.md'}, 'createdAt': '2019-03-09T00:40:19Z'}, {'name': 'carvel-kapp', 'codeOfConduct': {'url': 'https://github.com/vmware-tanzu/carvel-kapp/blob/develop/CODE_OF_CONDUCT.md'}, 'createdAt': '2019-03-15T21:49:25Z'}, {'name': 'carvel-ytt-library-for-kubernetes-demo', 'codeOfConduct': {'url': 'https://github.com/vmware-tanzu/carvel-ytt-library-for-kubernetes-demo/blob/develop/CODE_OF_CONDUCT.md'}, 'createdAt': '2019-03-22T19:32:24Z'}, {'name': 'ytt.vim', 'codeOfConduct': {'url': 'https://github.com/vmware-tanzu/ytt.vim/blob/master/CODE_OF_CONDUCT.md'}, 'createdAt': '2019-04-14T09:57:23Z'}, {'name': 'tanzu-observability-collector-for-aws-fargate', 'codeOfConduct': {'url': 'https://github.com/vmware-tanzu/tanzu-observability-collector-for-aws-fargate/blob/master/CODE-OF-CONDUCT.md'}, 'createdAt': '2019-04-17T05:25:35Z'}, {'name': 'carvel-kbld', 'codeOfConduct': {'url': 'https://github.com/vmware-tanzu/carvel-kbld/blob/develop/CODE_OF_CONDUCT.md'}, 'createdAt': '2019-04-19T22:58:51Z'}, {'name': 'carvel-guestbook-example-on-kubernetes', 'codeOfConduct': {'url': 'https://github.com/vmware-tanzu/carvel-guestbook-example-on-kubernetes/blob/develop/CODE_OF_CONDUCT.md'}, 'createdAt': '2019-04-23T22:59:54Z'}, {'name': 'carvel', 'codeOfConduct': {'url': 'https://github.com/vmware-tanzu/carvel/blob/develop/CODE_OF_CONDUCT.md'}, 'createdAt': '2019-04-24T19:24:20Z'}, {'name': 'cluster-api', 'codeOfConduct': {'url': 'https://github.com/vmware-tanzu/cluster-api/blob/master/code-of-conduct.md'}, 'createdAt': '2019-05-07T18:59:24Z'}, {'name': 'carvel-simple-app-on-kubernetes', 'codeOfConduct': {'url': 'https://github.com/vmware-tanzu/carvel-simple-app-on-kubernetes/blob/develop/CODE_OF_CONDUCT.md'}, 'createdAt': '2019-05-09T00:39:47Z'}, {'name': 'velero-plugin-for-csi', 'codeOfConduct': {'url': 'https://github.com/vmware-tanzu/velero-plugin-for-csi/blob/main/CODE_OF_CONDUCT.md'}, 'createdAt': '2019-06-04T15:04:55Z'}, {'name': 'octant', 'codeOfConduct': {'url': 'https://github.com/vmware-tanzu/octant/blob/master/CODE_OF_CONDUCT.md'}, 'createdAt': '2019-06-19T17:53:39Z'}, {'name': 'projects-operator', 'codeOfConduct': {'url': 'https://github.com/vmware-tanzu/projects-operator/blob/master/CODE-OF-CONDUCT.md'}, 'createdAt': '2019-07-31T19:41:47Z'}, {'name': 'dependency-labeler', 'codeOfConduct': {'url': 'https://github.com/vmware-tanzu/dependency-labeler/blob/master/CODE-OF-CONDUCT.md'}, 'createdAt': '2019-08-01T09:01:19Z'}, {'name': 'crash-diagnostics', 'codeOfConduct': {'url': 'https://github.com/vmware-tanzu/crash-diagnostics/blob/main/CODE-OF-CONDUCT.md'}, 'createdAt': '2019-10-02T17:39:58Z'}, {'name': 'velero-plugin-for-aws', 'codeOfConduct': {'url': 'https://github.com/vmware-tanzu/velero-plugin-for-aws/blob/main/CODE_OF_CONDUCT.md'}, 'createdAt': '2019-10-09T14:54:44Z'}, {'name': 'velero-plugin-for-microsoft-azure', 'codeOfConduct': {'url': 'https://github.com/vmware-tanzu/velero-plugin-for-microsoft-azure/blob/main/CODE_OF_CONDUCT.md'}, 'createdAt': '2019-10-11T20:37:01Z'}, {'name': 'velero-plugin-for-gcp', 'codeOfConduct': {'url': 'https://github.com/vmware-tanzu/velero-plugin-for-gcp/blob/main/CODE_OF_CONDUCT.md'}, 'createdAt': '2019-10-11T20:37:29Z'}, {'name': 'carvel-imgpkg', 'codeOfConduct': {'url': 'https://github.com/vmware-tanzu/carvel-imgpkg/blob/develop/CODE_OF_CONDUCT.md'}, 'createdAt': '2019-11-01T16:04:25Z'}, {'name': 'carvel-kapp-controller', 'codeOfConduct': {'url': 'https://github.com/vmware-tanzu/carvel-kapp-controller/blob/develop/CODE_OF_CONDUCT.md'}, 'createdAt': '2019-11-06T21:09:24Z'}, {'name': 'sonobuoy-plugins', 'codeOfConduct': None, 'createdAt': '2019-11-13T20:25:45Z'}, {'name': 'carvel-vendir', 'codeOfConduct': {'url': 'https://github.com/vmware-tanzu/carvel-vendir/blob/develop/CODE_OF_CONDUCT.md'}, 'createdAt': '2019-12-16T03:40:13Z'}, {'name': 'helm-charts', 'codeOfConduct': {'url': 'https://github.com/vmware-tanzu/helm-charts/blob/main/CODE-OF-CONDUCT.md'}, 'createdAt': '2019-12-17T20:11:21Z'}, {'name': 'astrolabe', 'codeOfConduct': None, 'createdAt': '2019-12-20T19:14:38Z'}, {'name': 'velero-plugin-for-vsphere', 'codeOfConduct': {'url': 'https://github.com/vmware-tanzu/velero-plugin-for-vsphere/blob/main/CODE-OF-CONDUCT.md'}, 'createdAt': '2019-12-20T19:14:53Z'}, {'name': 'difflib', 'codeOfConduct': {'url': 'https://github.com/vmware-tanzu/difflib/blob/master/CODE_OF_CONDUCT.md'}, 'createdAt': '2020-01-08T17:12:53Z'}, {'name': 'terraform-provider-carvel', 'codeOfConduct': {'url': 'https://github.com/vmware-tanzu/terraform-provider-carvel/blob/develop/CODE_OF_CONDUCT.md'}, 'createdAt': '2020-01-14T22:24:37Z'}, {'name': 'tanzu-dev-portal', 'codeOfConduct': {'url': 'https://github.com/vmware-tanzu/tanzu-dev-portal/blob/main/CODE_OF_CONDUCT.md'}, 'createdAt': '2020-01-29T17:25:40Z'}, {'name': 'carvel-docker-image', 'codeOfConduct': {'url': 'https://github.com/vmware-tanzu/carvel-docker-image/blob/develop/CODE_OF_CONDUCT.md'}, 'createdAt': '2020-02-03T19:22:22Z'}, {'name': 'carvel-secretgen-controller', 'codeOfConduct': {'url': 'https://github.com/vmware-tanzu/carvel-secretgen-controller/blob/develop/CODE_OF_CONDUCT.md'}, 'createdAt': '2020-02-06T14:19:21Z'}, {'name': 'starlark-go', 'codeOfConduct': {'url': 'https://github.com/vmware-tanzu/starlark-go/blob/master/CODE_OF_CONDUCT.md'}, 'createdAt': '2020-02-07T16:45:31Z'}, {'name': 'octant-example-plugins', 'codeOfConduct': None, 'createdAt': '2020-02-19T17:01:45Z'}, {'name': 'carvel-setup-action', 'codeOfConduct': {'url': 'https://github.com/vmware-tanzu/carvel-setup-action/blob/develop/CODE_OF_CONDUCT.md'}, 'createdAt': '2020-02-22T18:42:22Z'}, {'name': 'vscode-ytt', 'codeOfConduct': {'url': 'https://github.com/vmware-tanzu/vscode-ytt/blob/develop/CODE_OF_CONDUCT.md'}, 'createdAt': '2020-03-10T16:39:29Z'}, {'name': 'vm-operator-api', 'codeOfConduct': None, 'createdAt': '2020-03-17T16:36:51Z'}, {'name': 'color', 'codeOfConduct': {'url': 'https://github.com/vmware-tanzu/color/blob/master/CODE_OF_CONDUCT.md'}, 'createdAt': '2020-03-20T16:09:57Z'}, {'name': 'tanzu-tuesdays', 'codeOfConduct': None, 'createdAt': '2020-03-25T20:43:31Z'}, {'name': 'concourse-kpack-resource', 'codeOfConduct': {'url': 'https://github.com/vmware-tanzu/concourse-kpack-resource/blob/master/CODE-OF-CONDUCT.md'}, 'createdAt': '2020-04-01T20:42:57Z'}, {'name': 'sources-for-knative', 'codeOfConduct': {'url': 'https://github.com/vmware-tanzu/sources-for-knative/blob/main/CODE_OF_CONDUCT.md'}, 'createdAt': '2020-04-02T19:17:50Z'}, {'name': 'asdf-carvel', 'codeOfConduct': {'url': 'https://github.com/vmware-tanzu/asdf-carvel/blob/master/CODE_OF_CONDUCT.md'}, 'createdAt': '2020-04-06T11:03:59Z'}, {'name': 'kpack-cli', 'codeOfConduct': {'url': 'https://github.com/vmware-tanzu/kpack-cli/blob/main/CODE-OF-CONDUCT.md'}, 'createdAt': '2020-04-06T14:40:53Z'}, {'name': 'k-bench', 'codeOfConduct': {'url': 'https://github.com/vmware-tanzu/k-bench/blob/master/CODE-OF-CONDUCT.md'}, 'createdAt': '2020-04-17T21:33:48Z'}, {'name': 'carvel-ytt-starter-for-kubernetes', 'codeOfConduct': {'url': 'https://github.com/vmware-tanzu/carvel-ytt-starter-for-kubernetes/blob/develop/CODE_OF_CONDUCT.md'}, 'createdAt': '2020-05-13T17:42:35Z'}, {'name': 'service-apis', 'codeOfConduct': None, 'createdAt': '2020-07-01T23:44:44Z'}, {'name': 'pinniped', 'codeOfConduct': {'url': 'https://github.com/vmware-tanzu/pinniped/blob/main/CODE_OF_CONDUCT.md'}, 'createdAt': '2020-07-02T22:23:20Z'}, {'name': 'cloud-suitability-analyzer', 'codeOfConduct': {'url': 'https://github.com/vmware-tanzu/cloud-suitability-analyzer/blob/master/CODE_OF_CONDUCT.md'}, 'createdAt': '2020-08-11T14:45:34Z'}, {'name': 'octant-plugin-for-knative', 'codeOfConduct': {'url': 'https://github.com/vmware-tanzu/octant-plugin-for-knative/blob/main/CODE_OF_CONDUCT.md'}, 'createdAt': '2020-08-28T14:18:57Z'}, {'name': 'net-operator-api', 'codeOfConduct': None, 'createdAt': '2020-09-10T17:46:42Z'}, {'name': 'plugin-library-for-octant', 'codeOfConduct': {'url': 'https://github.com/vmware-tanzu/plugin-library-for-octant/blob/main/CODE_OF_CONDUCT.md'}, 'createdAt': '2020-09-18T20:56:49Z'}, {'name': 'cross-cluster-connectivity', 'codeOfConduct': {'url': 'https://github.com/vmware-tanzu/cross-cluster-connectivity/blob/main/CODE_OF_CONDUCT.md'}, 'createdAt': '2020-09-24T22:59:39Z'}, {'name': 'community-edition', 'codeOfConduct': {'url': 'https://github.com/vmware-tanzu/community-edition/blob/main/CODE_OF_CONDUCT.md'}, 'createdAt': '2020-10-13T19:01:34Z'}, {'name': 'buildkit-cli-for-kubectl', 'codeOfConduct': {'url': 'https://github.com/vmware-tanzu/buildkit-cli-for-kubectl/blob/main/CODE-OF-CONDUCT.md'}, 'createdAt': '2020-10-22T18:32:09Z'}, {'name': 'cert-injection-webhook', 'codeOfConduct': {'url': 'https://github.com/vmware-tanzu/cert-injection-webhook/blob/main/CODE-OF-CONDUCT.md'}, 'createdAt': '2020-10-26T19:25:06Z'}, {'name': 'properties-file-image-relocation', 'codeOfConduct': {'url': 'https://github.com/vmware-tanzu/properties-file-image-relocation/blob/main/CODE_OF_CONDUCT.md'}, 'createdAt': '2020-11-02T16:56:25Z'}, {'name': 'nozzle-for-microsoft-azure-log-analytics', 'codeOfConduct': {'url': 'https://github.com/vmware-tanzu/nozzle-for-microsoft-azure-log-analytics/blob/main/CODE-OF-CONDUCT.md'}, 'createdAt': '2020-11-03T18:26:02Z'}, {'name': 'homebrew-carvel', 'codeOfConduct': {'url': 'https://github.com/vmware-tanzu/homebrew-carvel/blob/develop/CODE_OF_CONDUCT.md'}, 'createdAt': '2020-11-16T21:49:04Z'}, {'name': 'carvel-community', 'codeOfConduct': None, 'createdAt': '2020-11-16T21:49:55Z'}, {'name': 'octant-plugin-for-kind', 'codeOfConduct': {'url': 'https://github.com/vmware-tanzu/octant-plugin-for-kind/blob/main/CODE_OF_CONDUCT.md'}, 'createdAt': '2020-11-24T00:34:48Z'}, {'name': 'rotate-instance-identity-certificates', 'codeOfConduct': {'url': 'https://github.com/vmware-tanzu/rotate-instance-identity-certificates/blob/main/CODE-OF-CONDUCT.md'}, 'createdAt': '2020-11-30T17:50:37Z'}, {'name': 'observability-event-resource', 'codeOfConduct': {'url': 'https://github.com/vmware-tanzu/observability-event-resource/blob/main/CODE-OF-CONDUCT.md'}, 'createdAt': '2020-12-10T22:13:34Z'}, {'name': 'homebrew-pinniped', 'codeOfConduct': {'url': 'https://github.com/vmware-tanzu/homebrew-pinniped/blob/main/CODE_OF_CONDUCT.md'}, 'createdAt': '2020-12-18T19:06:33Z'}, {'name': 'community-engagement', 'codeOfConduct': {'url': 'https://github.com/vmware-tanzu/community-engagement/blob/main/CODE_OF_CONDUCT.md'}, 'createdAt': '2021-01-07T18:55:11Z'}, {'name': 'tanzu-toolkit-for-visual-studio', 'codeOfConduct': {'url': 'https://github.com/vmware-tanzu/tanzu-toolkit-for-visual-studio/blob/main/CODE_OF_CONDUCT.md'}, 'createdAt': '2021-01-08T19:51:37Z'}, {'name': 'cluster-api-provider-bringyourownhost', 'codeOfConduct': {'url': 'https://github.com/vmware-tanzu/cluster-api-provider-bringyourownhost/blob/main/CODE-OF-CONDUCT.md'}, 'createdAt': '2021-01-25T21:56:30Z'}, {'name': 'vm-operator', 'codeOfConduct': None, 'createdAt': '2021-02-19T16:07:27Z'}, {'name': 'vsphere-kubernetes-drivers-operator', 'codeOfConduct': None, 'createdAt': '2021-02-19T16:08:06Z'}, {'name': 'tanzu-observability-slug-generator', 'codeOfConduct': {'url': 'https://github.com/vmware-tanzu/tanzu-observability-slug-generator/blob/main/Code-of-Conduct.md'}, 'createdAt': '2021-03-16T18:16:37Z'}, {'name': 'nsx-operator', 'codeOfConduct': {'url': 'https://github.com/vmware-tanzu/nsx-operator/blob/main/CODE-OF-CONDUCT.md'}, 'createdAt': '2021-06-03T03:01:10Z'}, {'name': 'tanzu-framework', 'codeOfConduct': {'url': 'https://github.com/vmware-tanzu/tanzu-framework/blob/main/CODE-OF-CONDUCT.md'}, 'createdAt': '2021-06-25T14:51:58Z'}, {'name': 'asset-relocation-tool-for-kubernetes', 'codeOfConduct': {'url': 'https://github.com/vmware-tanzu/asset-relocation-tool-for-kubernetes/blob/main/Code-of-Conduct.md'}, 'createdAt': '2021-07-14T16:35:53Z'}, {'name': 'homebrew-kpack-cli', 'codeOfConduct': {'url': 'https://github.com/vmware-tanzu/homebrew-kpack-cli/blob/main/CODE_OF_CONDUCT.md'}, 'createdAt': '2021-08-26T15:46:22Z'}, {'name': 'cartographer', 'codeOfConduct': {'url': 'https://github.com/vmware-tanzu/cartographer/blob/main/CODE-OF-CONDUCT.md'}, 'createdAt': '2021-09-01T15:03:53Z'}, {'name': 'carvel-release-scripts', 'codeOfConduct': {'url': 'https://github.com/vmware-tanzu/carvel-release-scripts/blob/main/CODE_OF_CONDUCT.md'}, 'createdAt': '2021-09-03T16:23:04Z'}, {'name': 'homebrew-tanzu', 'codeOfConduct': {'url': 'https://github.com/vmware-tanzu/homebrew-tanzu/blob/main/CODE_OF_CONDUCT.md'}, 'createdAt': '2021-09-20T19:38:17Z'}, {'name': 'function-buildpacks-for-knative', 'codeOfConduct': {'url': 'https://github.com/vmware-tanzu/function-buildpacks-for-knative/blob/main/CODE_OF_CONDUCT.md'}, 'createdAt': '2021-10-08T19:05:36Z'}]}}}}\n"
     ]
    }
   ],
   "source": [
    "url = 'https://api.github.com/graphql'\n",
    "headers = {'Authorization': 'token %s' % api_token}\n",
    "\n",
    "query = make_query()\n",
    "\n",
    "variables = {\"org_name\": org_name}\n",
    "r = requests.post(url=url, json={'query': query, 'variables': variables}, headers=headers)\n",
    "json_data_tanzu = json.loads(r.text)\n",
    "print(json_data_tanzu)"
   ]
  },
  {
   "cell_type": "markdown",
   "metadata": {},
   "source": [
    "# Fails on other orgs: vmware org example"
   ]
  },
  {
   "cell_type": "code",
   "execution_count": 27,
   "metadata": {},
   "outputs": [],
   "source": [
    "# fails on vmware, bitnami\n",
    "# works on vmware-tanzu, concourse, carbonblack\n",
    "org_name = \"vmware\""
   ]
  },
  {
   "cell_type": "code",
   "execution_count": 28,
   "metadata": {},
   "outputs": [
    {
     "name": "stdout",
     "output_type": "stream",
     "text": [
      "{'data': None, 'errors': [{'message': 'Something went wrong while executing your query. This may be the result of a timeout, or it could be a GitHub bug. Please include `CAB0:C404:1B10EB1:1B93850:61E29378` when reporting this issue.'}]}\n"
     ]
    }
   ],
   "source": [
    "url = 'https://api.github.com/graphql'\n",
    "headers = {'Authorization': 'token %s' % api_token}\n",
    "\n",
    "query = make_query()\n",
    "\n",
    "variables = {\"org_name\": org_name}\n",
    "r = requests.post(url=url, json={'query': query, 'variables': variables}, headers=headers)\n",
    "json_data_vmware = json.loads(r.text)\n",
    "print(json_data_vmware)"
   ]
  },
  {
   "cell_type": "markdown",
   "metadata": {},
   "source": [
    "## Note: If you remove the codeOfConduct, the rest of the query works fine."
   ]
  },
  {
   "cell_type": "code",
   "execution_count": 29,
   "metadata": {},
   "outputs": [],
   "source": [
    "# fails on vmware, bitnami\n",
    "# works on vmware-tanzu, concourse, carbonblack\n",
    "def make_query_no_coc():\n",
    "    return \"\"\"query RepoQuery($org_name: String!) {\n",
    "             organization(login: $org_name) {\n",
    "               repositories (first: 100){\n",
    "                 pageInfo {\n",
    "                   hasNextPage\n",
    "                   endCursor\n",
    "                 }\n",
    "                 nodes {\n",
    "                   name\n",
    "                   createdAt\n",
    "                 }\n",
    "                }\n",
    "               }\n",
    "            }\"\"\""
   ]
  },
  {
   "cell_type": "code",
   "execution_count": 30,
   "metadata": {},
   "outputs": [
    {
     "name": "stdout",
     "output_type": "stream",
     "text": [
      "{'data': {'organization': {'repositories': {'pageInfo': {'hasNextPage': True, 'endCursor': 'Y3Vyc29yOnYyOpHOCThfGA=='}, 'nodes': [{'name': 'pg_rewind', 'createdAt': '2013-05-23T10:45:43Z'}, {'name': 'pyvmomi', 'createdAt': '2013-12-13T17:30:30Z'}, {'name': 'pyvmomi-community-samples', 'createdAt': '2014-04-24T20:31:56Z'}, {'name': 'open-vm-tools', 'createdAt': '2014-04-25T21:30:54Z'}, {'name': 'upgrade-framework', 'createdAt': '2014-06-16T17:22:11Z'}, {'name': 'workflowTools', 'createdAt': '2014-07-18T22:16:00Z'}, {'name': 'govmomi', 'createdAt': '2014-08-12T16:15:08Z'}, {'name': 'pyvcloud', 'createdAt': '2014-11-12T19:36:04Z'}, {'name': 'vmw-guestinfo', 'createdAt': '2014-11-29T23:07:44Z'}, {'name': 'vcd-cli', 'createdAt': '2014-12-05T18:52:29Z'}, {'name': 'open-vmdk', 'createdAt': '2014-12-15T17:10:11Z'}, {'name': 'tdnf', 'createdAt': '2015-02-26T00:44:11Z'}, {'name': 'likewise-open', 'createdAt': '2015-02-26T19:58:04Z'}, {'name': 'photon', 'createdAt': '2015-04-15T17:22:47Z'}, {'name': 'lightwave', 'createdAt': '2015-04-15T17:22:59Z'}, {'name': 'vivace', 'createdAt': '2015-05-15T16:59:28Z'}, {'name': 'PowerCLI-Example-Scripts', 'createdAt': '2015-06-04T16:57:56Z'}, {'name': 'ansible-coreos-bootstrap', 'createdAt': '2015-06-07T21:36:00Z'}, {'name': 'ansible-etcd-cluster', 'createdAt': '2015-06-08T06:34:25Z'}, {'name': 'ansible-etcd-ca', 'createdAt': '2015-06-09T14:32:42Z'}, {'name': 'goipmi', 'createdAt': '2015-07-08T21:24:28Z'}, {'name': 'photon-packer-templates', 'createdAt': '2015-07-30T17:28:22Z'}, {'name': 'ansible-coreos-setup', 'createdAt': '2015-07-31T12:59:08Z'}, {'name': 'ansible-fleet-cluster', 'createdAt': '2015-07-31T13:06:06Z'}, {'name': 'ansible-coreos-autofs', 'createdAt': '2015-08-06T09:08:47Z'}, {'name': 'ansible-flannel', 'createdAt': '2015-08-19T15:03:35Z'}, {'name': 'c-rest-engine', 'createdAt': '2015-09-28T21:55:14Z'}, {'name': 'ansible-kubernetes-ca', 'createdAt': '2015-11-17T01:00:38Z'}, {'name': 'ansible-coreos-kubernetes-master', 'createdAt': '2015-11-17T01:10:07Z'}, {'name': 'ansible-coreos-kubernetes-minion', 'createdAt': '2015-11-17T01:14:41Z'}, {'name': 'ansible-coreos-kubelet', 'createdAt': '2015-11-17T16:56:41Z'}, {'name': 'photon-docker-image', 'createdAt': '2015-11-27T16:05:00Z'}, {'name': 'vic', 'createdAt': '2016-01-13T19:53:57Z'}, {'name': 'photonos-netmgr', 'createdAt': '2016-01-16T01:22:23Z'}, {'name': 'LittleProxy', 'createdAt': '2016-02-18T06:49:32Z'}, {'name': 'alb-sdk', 'createdAt': '2016-03-07T21:29:17Z'}, {'name': 'vsphere-automation-sdk-python', 'createdAt': '2016-05-14T05:02:34Z'}, {'name': 'vsphere-automation-sdk-java', 'createdAt': '2016-05-14T05:03:54Z'}, {'name': 'vsphere-automation-sdk-ruby', 'createdAt': '2016-05-14T05:05:09Z'}, {'name': 'powernsx', 'createdAt': '2016-08-17T09:49:35Z'}, {'name': 'vic-product', 'createdAt': '2016-08-18T21:52:44Z'}, {'name': 'priam', 'createdAt': '2016-08-30T23:29:50Z'}, {'name': 'burp-rest-api', 'createdAt': '2016-09-01T20:31:35Z'}, {'name': 'idm', 'createdAt': '2016-09-06T17:11:25Z'}, {'name': 'clarity', 'createdAt': '2016-09-29T17:24:17Z'}, {'name': 'hillview', 'createdAt': '2016-10-03T20:32:15Z'}, {'name': 'powerclicore', 'createdAt': '2016-10-28T19:30:52Z'}, {'name': 'copenapi', 'createdAt': '2016-11-11T22:54:05Z'}, {'name': 'vidm-saml-toolkit', 'createdAt': '2016-12-12T01:29:40Z'}, {'name': 'ansible', 'createdAt': '2016-12-19T17:39:01Z'}, {'name': 'p4c-xdp', 'createdAt': '2016-12-20T22:10:02Z'}, {'name': 'go-nfs-client', 'createdAt': '2017-01-28T01:18:03Z'}, {'name': 'weathervane', 'createdAt': '2017-03-15T20:54:26Z'}, {'name': 'chap', 'createdAt': '2017-04-01T22:31:42Z'}, {'name': 'pmd', 'createdAt': '2017-04-12T19:01:58Z'}, {'name': 'o11n-plugin-crypto', 'createdAt': '2017-04-26T20:35:26Z'}, {'name': 'terraform-provider-vcd', 'createdAt': '2017-06-05T20:54:05Z'}, {'name': 'container-service-extension', 'createdAt': '2017-06-27T21:51:06Z'}, {'name': 'smb-connector', 'createdAt': '2017-07-24T11:13:32Z'}, {'name': 'vrops-export', 'createdAt': '2017-07-26T19:03:36Z'}, {'name': 'vsphere-storage-for-kubernetes', 'createdAt': '2017-08-07T22:27:50Z'}, {'name': 'replay-app-for-tvos', 'createdAt': '2017-08-14T14:13:33Z'}, {'name': 'vic-ui', 'createdAt': '2017-09-29T20:46:59Z'}, {'name': 'nsx-integration-for-openshift', 'createdAt': '2017-10-11T04:07:09Z'}, {'name': 'go-vmware-nsxt', 'createdAt': '2017-10-17T19:30:04Z'}, {'name': 'vsphere-guest-run', 'createdAt': '2017-10-20T20:09:15Z'}, {'name': 'vrealize-suite-lifecycle-manager-sdk', 'createdAt': '2017-10-31T05:06:09Z'}, {'name': 'nsx-powerops', 'createdAt': '2017-11-02T18:47:01Z'}, {'name': 'connectors-workspace-one', 'createdAt': '2017-12-14T20:17:14Z'}, {'name': 'guest-introspection-nsx', 'createdAt': '2018-01-31T04:19:00Z'}, {'name': 'test-operations', 'createdAt': '2018-02-15T23:02:04Z'}, {'name': 'vcd-ext-sdk', 'createdAt': '2018-02-16T20:49:45Z'}, {'name': 'django-yamlconf', 'createdAt': '2018-02-20T05:55:53Z'}, {'name': 'ansible-aws-greengrass', 'createdAt': '2018-03-05T20:49:49Z'}, {'name': 'ovsdb-client-library', 'createdAt': '2018-03-16T17:42:16Z'}, {'name': 'differential-datalog', 'createdAt': '2018-03-20T20:14:11Z'}, {'name': 'kube-fluentd-operator', 'createdAt': '2018-03-26T09:29:35Z'}, {'name': 'harbor-boshrelease', 'createdAt': '2018-03-28T19:41:58Z'}, {'name': 'terraform-provider-nsxt', 'createdAt': '2018-04-09T16:54:13Z'}, {'name': 'ansible-module-vcloud-director', 'createdAt': '2018-05-08T18:38:51Z'}, {'name': 'vic-tools', 'createdAt': '2018-06-29T21:34:15Z'}, {'name': 'ansible-for-nsxt', 'createdAt': '2018-07-02T18:26:22Z'}, {'name': 'ansible-role-greengrass-awscli', 'createdAt': '2018-07-10T04:43:16Z'}, {'name': 'ansible-role-greengrass-init', 'createdAt': '2018-07-10T04:46:25Z'}, {'name': 'go-vcloud-director', 'createdAt': '2018-07-12T19:04:07Z'}, {'name': 'vmware-log-collectors-for-public-cloud', 'createdAt': '2018-07-31T17:00:37Z'}, {'name': 'concord-bft', 'createdAt': '2018-08-01T09:36:28Z'}, {'name': 'fluent-plugin-vmware-loginsight', 'createdAt': '2018-08-09T01:06:20Z'}, {'name': 'purser', 'createdAt': '2018-08-21T13:36:08Z'}, {'name': 'nsx-t-datacenter-ci-pipelines', 'createdAt': '2018-08-26T17:43:58Z'}, {'name': 'vmware-go-kcl', 'createdAt': '2018-09-06T19:28:53Z'}, {'name': 'esx-boot', 'createdAt': '2018-09-07T19:13:53Z'}, {'name': 'bare-metal-server-integration-with-nsxt', 'createdAt': '2018-09-11T03:18:02Z'}, {'name': 'vmware-openapi-generator', 'createdAt': '2018-09-11T20:51:53Z'}, {'name': 'wavefront-adapter-for-istio', 'createdAt': '2018-09-17T21:56:24Z'}, {'name': 'ansible-role-microsoft-azure-iot', 'createdAt': '2018-10-17T13:54:48Z'}, {'name': 'ansible-role-microsoft-azure-edge', 'createdAt': '2018-10-17T13:57:21Z'}, {'name': 'cloud-to-edge', 'createdAt': '2018-10-17T13:59:57Z'}, {'name': 'ansible-role-cloud-to-edge-vm', 'createdAt': '2018-10-25T14:51:52Z'}, {'name': 'cloud-to-edge-automation', 'createdAt': '2018-10-25T14:53:37Z'}]}}}}\n"
     ]
    }
   ],
   "source": [
    "url = 'https://api.github.com/graphql'\n",
    "headers = {'Authorization': 'token %s' % api_token}\n",
    "\n",
    "query = make_query_no_coc()\n",
    "\n",
    "variables = {\"org_name\": org_name}\n",
    "r = requests.post(url=url, json={'query': query, 'variables': variables}, headers=headers)\n",
    "json_data_no_coc = json.loads(r.text)\n",
    "print(json_data_no_coc)"
   ]
  },
  {
   "cell_type": "code",
   "execution_count": null,
   "metadata": {},
   "outputs": [],
   "source": []
  },
  {
   "cell_type": "code",
   "execution_count": null,
   "metadata": {},
   "outputs": [],
   "source": []
  }
 ],
 "metadata": {
  "kernelspec": {
   "display_name": "Python 3",
   "language": "python",
   "name": "python3"
  },
  "language_info": {
   "codemirror_mode": {
    "name": "ipython",
    "version": 3
   },
   "file_extension": ".py",
   "mimetype": "text/x-python",
   "name": "python",
   "nbconvert_exporter": "python",
   "pygments_lexer": "ipython3",
   "version": "3.8.5"
  }
 },
 "nbformat": 4,
 "nbformat_minor": 4
}
